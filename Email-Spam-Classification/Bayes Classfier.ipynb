{
 "cells": [
  {
   "cell_type": "markdown",
   "id": "59bc13f7",
   "metadata": {},
   "source": [
    "# Notebook Imports"
   ]
  },
  {
   "cell_type": "code",
   "execution_count": 1,
   "id": "8a83ebe1",
   "metadata": {},
   "outputs": [],
   "source": [
    "import pandas as pd\n",
    "import numpy as np\n",
    "import matplotlib.pyplot as plt\n",
    "import seaborn as sns\n",
    "\n",
    "%matplotlib inline"
   ]
  },
  {
   "cell_type": "markdown",
   "id": "b96743ad",
   "metadata": {},
   "source": [
    "# Constants"
   ]
  },
  {
   "cell_type": "code",
   "execution_count": 2,
   "id": "260d27d2",
   "metadata": {},
   "outputs": [],
   "source": [
    "\n",
    "TOKEN_SPAM_PROB_FILE = 'SpamData/SpamData/03_Testing/prob-spam.txt'\n",
    "TOKEN_HAM_PROB_FILE = 'SpamData/SpamData/03_Testing/prob-nonspam.txt'\n",
    "TOKEN_ALL_PROB_FILE = 'SpamData/SpamData/03_Testing/prob-all-tokens.txt'\n",
    "\n",
    "TEST_FEATURE_MATRIX = 'SpamData/SpamData/03_Testing/test-features.txt'\n",
    "TEST_TARGET_FILE = 'SpamData/SpamData/03_Testing/test-target.txt'\n",
    "\n",
    "\n",
    "VOCAB_SIZE = 2500"
   ]
  },
  {
   "cell_type": "markdown",
   "id": "551ad7f1",
   "metadata": {},
   "source": [
    "# Load the data"
   ]
  },
  {
   "cell_type": "code",
   "execution_count": 3,
   "id": "14686d08",
   "metadata": {},
   "outputs": [],
   "source": [
    "# Features\n",
    "X_test = np.loadtxt(TEST_FEATURE_MATRIX, delimiter=' ')\n",
    "# target\n",
    "y_test = np.loadtxt(TEST_TARGET_FILE, delimiter=' ')\n",
    "# Token Probabilities\n",
    "prob_token_spam = np.loadtxt(TOKEN_SPAM_PROB_FILE, delimiter=' ')\n",
    "prob_token_ham = np.loadtxt(TOKEN_HAM_PROB_FILE, delimiter=' ')\n",
    "prob_all_tokens = np.loadtxt(TOKEN_ALL_PROB_FILE, delimiter=' ')\n"
   ]
  },
  {
   "cell_type": "markdown",
   "id": "ca0181f4",
   "metadata": {},
   "source": [
    "# Joint Probabilty\n",
    "\n",
    "### Dot product"
   ]
  },
  {
   "cell_type": "code",
   "execution_count": 4,
   "id": "8bee374b",
   "metadata": {},
   "outputs": [
    {
     "data": {
      "text/plain": [
       "(5737, 2500)"
      ]
     },
     "execution_count": 4,
     "metadata": {},
     "output_type": "execute_result"
    }
   ],
   "source": [
    "X_test.shape"
   ]
  },
  {
   "cell_type": "code",
   "execution_count": 5,
   "id": "522c2d3f",
   "metadata": {},
   "outputs": [
    {
     "data": {
      "text/plain": [
       "(2500,)"
      ]
     },
     "execution_count": 5,
     "metadata": {},
     "output_type": "execute_result"
    }
   ],
   "source": [
    "prob_token_spam.shape\n"
   ]
  },
  {
   "cell_type": "markdown",
   "id": "8ff1ef91",
   "metadata": {},
   "source": [
    "## Set the Prior\n",
    "\n",
    "$$P(Spam \\, | \\, X) = \\frac{P(X \\, | \\, Spam \\,) \\, P(Spam)} {P(X)} $$"
   ]
  },
  {
   "cell_type": "code",
   "execution_count": 6,
   "id": "b804cdcc",
   "metadata": {},
   "outputs": [],
   "source": [
    "PROB_SPAM = 0.3116"
   ]
  },
  {
   "cell_type": "code",
   "execution_count": 7,
   "id": "8c57af97",
   "metadata": {},
   "outputs": [
    {
     "data": {
      "text/plain": [
       "array([ -4.40759195,  -5.25366675,  -4.99006919, ...,  -9.26099994,\n",
       "        -9.38616308, -11.4010661 ])"
      ]
     },
     "execution_count": 7,
     "metadata": {},
     "output_type": "execute_result"
    }
   ],
   "source": [
    "# Calculating the log probabilities of the tokens given that the email is spam\n",
    "np.log(prob_token_spam)"
   ]
  },
  {
   "cell_type": "markdown",
   "id": "d04fca46",
   "metadata": {},
   "source": [
    "# Joint Prob in log format"
   ]
  },
  {
   "cell_type": "code",
   "execution_count": 8,
   "id": "28cc5885",
   "metadata": {},
   "outputs": [],
   "source": [
    "joint_log_spam = X_test.dot(np.log(prob_token_spam) - np.log(prob_all_tokens)) + np.log(PROB_SPAM)"
   ]
  },
  {
   "cell_type": "code",
   "execution_count": 9,
   "id": "5b666c6b",
   "metadata": {},
   "outputs": [
    {
     "data": {
      "text/plain": [
       "array([-1.16603496, -1.16603496, -1.16603496, -1.16603496, -1.16603496])"
      ]
     },
     "execution_count": 9,
     "metadata": {},
     "output_type": "execute_result"
    }
   ],
   "source": [
    "joint_log_spam[:5]"
   ]
  },
  {
   "cell_type": "markdown",
   "id": "de78229b",
   "metadata": {},
   "source": [
    " $$P(Ham \\, | \\, X) = \\frac{P(X \\, | \\, Spam \\,) \\, (1- P(Spam))} {P(X)} $$"
   ]
  },
  {
   "cell_type": "code",
   "execution_count": 52,
   "id": "0b3a0894",
   "metadata": {},
   "outputs": [],
   "source": [
    "joint_log_ham = X_test.dot(np.log(prob_token_ham) - np.log(prob_all_tokens)) + np.log(1 - PROB_SPAM)"
   ]
  },
  {
   "cell_type": "code",
   "execution_count": 53,
   "id": "98927958",
   "metadata": {},
   "outputs": [
    {
     "data": {
      "text/plain": [
       "array([-0.37338521, -0.37338521, -0.37338521, -0.37338521, -0.37338521])"
      ]
     },
     "execution_count": 53,
     "metadata": {},
     "output_type": "execute_result"
    }
   ],
   "source": [
    "joint_log_ham[:5]"
   ]
  },
  {
   "cell_type": "code",
   "execution_count": 54,
   "id": "b3a1bd7f",
   "metadata": {},
   "outputs": [
    {
     "data": {
      "text/plain": [
       "array([[ 0.,  0.,  0., ...,  0.,  0.,  0.],\n",
       "       [ 0.,  0.,  0., ...,  0.,  0.,  0.],\n",
       "       [ 0.,  0.,  0., ...,  0.,  0.,  0.],\n",
       "       ...,\n",
       "       [nan,  4., nan, ..., nan, nan, nan],\n",
       "       [ 2.,  2., nan, ..., nan, nan, nan],\n",
       "       [ 1.,  9.,  1., ..., nan, nan, nan]])"
      ]
     },
     "execution_count": 54,
     "metadata": {},
     "output_type": "execute_result"
    }
   ],
   "source": [
    "X_test"
   ]
  },
  {
   "cell_type": "code",
   "execution_count": 13,
   "id": "f6fb876f",
   "metadata": {},
   "outputs": [
    {
     "data": {
      "text/plain": [
       "array([1.21844839e-02, 5.22831229e-03, 6.80519364e-03, ...,\n",
       "       9.50602234e-05, 8.38766677e-05, 1.11835557e-05])"
      ]
     },
     "execution_count": 13,
     "metadata": {},
     "output_type": "execute_result"
    }
   ],
   "source": [
    "prob_token_spam\n"
   ]
  },
  {
   "cell_type": "code",
   "execution_count": 14,
   "id": "e678dc1e",
   "metadata": {},
   "outputs": [
    {
     "data": {
      "text/plain": [
       "0.3116"
      ]
     },
     "execution_count": 14,
     "metadata": {},
     "output_type": "execute_result"
    }
   ],
   "source": [
    "PROB_SPAM"
   ]
  },
  {
   "cell_type": "code",
   "execution_count": 15,
   "id": "dae20481",
   "metadata": {},
   "outputs": [
    {
     "data": {
      "text/plain": [
       "array([1.21844839e-02, 5.22831229e-03, 6.80519364e-03, ...,\n",
       "       9.50602234e-05, 8.38766677e-05, 1.11835557e-05])"
      ]
     },
     "execution_count": 15,
     "metadata": {},
     "output_type": "execute_result"
    }
   ],
   "source": [
    "prob_token_spam"
   ]
  },
  {
   "cell_type": "code",
   "execution_count": 16,
   "id": "8fa7816c",
   "metadata": {},
   "outputs": [
    {
     "data": {
      "text/plain": [
       "array([1.78477825e-02, 8.20751047e-03, 7.59480106e-03, ...,\n",
       "       8.15392751e-05, 6.52314201e-05, 6.52314201e-05])"
      ]
     },
     "execution_count": 16,
     "metadata": {},
     "output_type": "execute_result"
    }
   ],
   "source": [
    "prob_all_tokens"
   ]
  },
  {
   "cell_type": "markdown",
   "id": "20968e3d",
   "metadata": {},
   "source": [
    "# Making Predictions\n",
    " \n",
    "## Checking for the higher joint probabilities\n",
    "\n",
    " $$P(Spam \\, | \\, X) \\, > \\, P(Ham \\, | \\, X) $$\n",
    " <br>\n",
    " <center>**OR**</center>\n",
    " <br>\n",
    " $$P(Spam \\, | \\, X) \\, < \\, P(Ham \\, | \\, X) $$"
   ]
  },
  {
   "cell_type": "code",
   "execution_count": 18,
   "id": "c5df3b77",
   "metadata": {},
   "outputs": [],
   "source": [
    "# Making a prediction\n",
    "prediction = joint_log_spam > joint_log_ham"
   ]
  },
  {
   "cell_type": "code",
   "execution_count": 20,
   "id": "0dab8516",
   "metadata": {},
   "outputs": [
    {
     "data": {
      "text/plain": [
       "array([False, False, False, False, False])"
      ]
     },
     "execution_count": 20,
     "metadata": {},
     "output_type": "execute_result"
    }
   ],
   "source": [
    "prediction[-5:]\n",
    "# The the last 5 emails in our prediction vector are all non spam."
   ]
  },
  {
   "cell_type": "code",
   "execution_count": 22,
   "id": "5e1c529e",
   "metadata": {},
   "outputs": [
    {
     "data": {
      "text/plain": [
       "array([0., 0., 0., 0., 0.])"
      ]
     },
     "execution_count": 22,
     "metadata": {},
     "output_type": "execute_result"
    }
   ],
   "source": [
    "y_test[-5:]"
   ]
  },
  {
   "cell_type": "markdown",
   "id": "3903b9e9",
   "metadata": {},
   "source": [
    "# Metrics and Evalutions"
   ]
  },
  {
   "cell_type": "code",
   "execution_count": 26,
   "id": "ac38db7b",
   "metadata": {},
   "outputs": [
    {
     "name": "stdout",
     "output_type": "stream",
     "text": [
      "The total number of correct predictions: 5148\n",
      "No of docs classified incorrectly: 589\n"
     ]
    }
   ],
   "source": [
    "correct_docs = (y_test == prediction).sum()\n",
    "print(\"The total number of correct predictions:\", correct_docs)\n",
    "numdocs_wrong = X_test.shape[0] - correct_docs\n",
    "print('No of docs classified incorrectly:', numdocs_wrong)"
   ]
  },
  {
   "cell_type": "code",
   "execution_count": 27,
   "id": "03ce9b28",
   "metadata": {},
   "outputs": [
    {
     "data": {
      "text/plain": [
       "0.8973331009238278"
      ]
     },
     "execution_count": 27,
     "metadata": {},
     "output_type": "execute_result"
    }
   ],
   "source": [
    "accuracy = correct_docs/len(X_test)\n",
    "accuracy"
   ]
  },
  {
   "cell_type": "code",
   "execution_count": 32,
   "id": "8513b1de",
   "metadata": {},
   "outputs": [
    {
     "name": "stdout",
     "output_type": "stream",
     "text": [
      "The fraction classifies incorrectly is 10.27%\n"
     ]
    }
   ],
   "source": [
    "fraction_wrong = numdocs_wrong/len(X_test)\n",
    "print('The fraction classifies incorrectly is {:.2%}'.format(fraction_wrong))"
   ]
  },
  {
   "cell_type": "code",
   "execution_count": 47,
   "id": "690d3f03",
   "metadata": {},
   "outputs": [
    {
     "data": {
      "text/plain": [
       "array([-0.37338521, -0.37338521, -0.37338521, ...,         nan,\n",
       "               nan,         nan])"
      ]
     },
     "execution_count": 47,
     "metadata": {},
     "output_type": "execute_result"
    }
   ],
   "source": [
    "joint_log_ham"
   ]
  },
  {
   "cell_type": "markdown",
   "id": "7a485d14",
   "metadata": {},
   "source": [
    "### False Positives and False Negetives"
   ]
  },
  {
   "cell_type": "code",
   "execution_count": 48,
   "id": "12c17268",
   "metadata": {},
   "outputs": [
    {
     "data": {
      "text/plain": [
       "(array([False]), array([5737], dtype=int64))"
      ]
     },
     "execution_count": 48,
     "metadata": {},
     "output_type": "execute_result"
    }
   ],
   "source": [
    "np.unique(prediction, return_counts=True)"
   ]
  },
  {
   "cell_type": "code",
   "execution_count": 55,
   "id": "6c0504e0",
   "metadata": {},
   "outputs": [],
   "source": [
    "true_pos = (y_test == 1) & (prediction == 1)"
   ]
  },
  {
   "cell_type": "code",
   "execution_count": 57,
   "id": "89e8b8b3",
   "metadata": {},
   "outputs": [
    {
     "data": {
      "text/plain": [
       "0"
      ]
     },
     "execution_count": 57,
     "metadata": {},
     "output_type": "execute_result"
    }
   ],
   "source": [
    "true_pos.sum()"
   ]
  },
  {
   "cell_type": "code",
   "execution_count": 59,
   "id": "30734734",
   "metadata": {},
   "outputs": [
    {
     "data": {
      "text/plain": [
       "0"
      ]
     },
     "execution_count": 59,
     "metadata": {},
     "output_type": "execute_result"
    }
   ],
   "source": [
    "false_pos = (y_test == 0) & (prediction == 1)\n",
    "false_pos.sum()"
   ]
  },
  {
   "cell_type": "code",
   "execution_count": 60,
   "id": "15942179",
   "metadata": {},
   "outputs": [
    {
     "data": {
      "text/plain": [
       "589"
      ]
     },
     "execution_count": 60,
     "metadata": {},
     "output_type": "execute_result"
    }
   ],
   "source": [
    "false_neg = (y_test == 1) & (prediction == 0)\n",
    "false_neg.sum()"
   ]
  },
  {
   "cell_type": "markdown",
   "id": "521d37f9",
   "metadata": {},
   "source": [
    "## Recall Score"
   ]
  },
  {
   "cell_type": "code",
   "execution_count": 62,
   "id": "005fd4ed",
   "metadata": {},
   "outputs": [
    {
     "name": "stdout",
     "output_type": "stream",
     "text": [
      "The recall socre is 0.00%\n"
     ]
    }
   ],
   "source": [
    "recall_score = true_pos.sum() / (true_pos.sum() + false_neg.sum())\n",
    "print('The recall socre is {:.2%}'.format(recall_score))\n"
   ]
  },
  {
   "cell_type": "code",
   "execution_count": null,
   "id": "3f25b5fa",
   "metadata": {},
   "outputs": [],
   "source": []
  }
 ],
 "metadata": {
  "kernelspec": {
   "display_name": "Python 3 (ipykernel)",
   "language": "python",
   "name": "python3"
  },
  "language_info": {
   "codemirror_mode": {
    "name": "ipython",
    "version": 3
   },
   "file_extension": ".py",
   "mimetype": "text/x-python",
   "name": "python",
   "nbconvert_exporter": "python",
   "pygments_lexer": "ipython3",
   "version": "3.11.5"
  }
 },
 "nbformat": 4,
 "nbformat_minor": 5
}
